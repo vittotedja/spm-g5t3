{
 "cells": [
  {
   "cell_type": "code",
   "execution_count": 55,
   "metadata": {},
   "outputs": [
    {
     "name": "stderr",
     "output_type": "stream",
     "text": [
      "2023-10-06 16:44:31,901:INFO - HTTP Request: GET https://wbsagjngbxrrzfktkvtt.supabase.co/rest/v1/application?select=%2A%2C%20staff%28%2A%29&role_id=eq.2 \"HTTP/1.1 200 OK\"\n",
      "2023-10-06 16:44:31,969:INFO - HTTP Request: GET https://wbsagjngbxrrzfktkvtt.supabase.co/rest/v1/staff_skill?select=skill%28%2A%29&staff_id=eq.1 \"HTTP/1.1 200 OK\"\n",
      "2023-10-06 16:44:32,016:INFO - HTTP Request: GET https://wbsagjngbxrrzfktkvtt.supabase.co/rest/v1/role_skill?select=skill%28%2A%29&role_id=eq.2 \"HTTP/1.1 200 OK\"\n",
      "2023-10-06 16:44:32,059:INFO - HTTP Request: GET https://wbsagjngbxrrzfktkvtt.supabase.co/rest/v1/staff_skill?select=skill%28%2A%29&staff_id=eq.4 \"HTTP/1.1 200 OK\"\n",
      "2023-10-06 16:44:32,117:INFO - HTTP Request: GET https://wbsagjngbxrrzfktkvtt.supabase.co/rest/v1/role_skill?select=skill%28%2A%29&role_id=eq.2 \"HTTP/1.1 200 OK\"\n",
      "2023-10-06 16:44:32,157:INFO - HTTP Request: GET https://wbsagjngbxrrzfktkvtt.supabase.co/rest/v1/staff_skill?select=skill%28%2A%29&staff_id=eq.1 \"HTTP/1.1 200 OK\"\n",
      "2023-10-06 16:44:32,207:INFO - HTTP Request: GET https://wbsagjngbxrrzfktkvtt.supabase.co/rest/v1/role_skill?select=skill%28%2A%29&role_id=eq.2 \"HTTP/1.1 200 OK\"\n",
      "2023-10-06 16:44:32,270:INFO - HTTP Request: GET https://wbsagjngbxrrzfktkvtt.supabase.co/rest/v1/staff_skill?select=skill%28%2A%29&staff_id=eq.2 \"HTTP/1.1 200 OK\"\n",
      "2023-10-06 16:44:32,322:INFO - HTTP Request: GET https://wbsagjngbxrrzfktkvtt.supabase.co/rest/v1/role_skill?select=skill%28%2A%29&role_id=eq.2 \"HTTP/1.1 200 OK\"\n"
     ]
    }
   ],
   "source": [
    "from fastapi import FastAPI, APIRouter, HTTPException\n",
    "from fastapi.middleware.cors import CORSMiddleware\n",
    "import os\n",
    "from dotenv import load_dotenv\n",
    "from supabase import create_client, Client\n",
    "import pandas as pd\n",
    "\n",
    "load_dotenv()\n",
    "url: str = os.getenv(\"SUPABASE_URL\")\n",
    "key: str = os.getenv(\"SUPABASE_KEY\")\n",
    "supabase: Client = create_client(url, key)\n",
    "\n",
    "async def staff_skill(staff_id: int):\n",
    "    staff_skill = pd.DataFrame.from_dict(supabase.from_('staff_skill').select('skill(*)').eq('staff_id', staff_id).execute().data)['skill']\n",
    "    return staff_skill.to_list()\n",
    "\n",
    "async def staff_role_skill(staff_id: int, role_id: int):\n",
    "    # Get the list of skill_id for the staff and role\n",
    "    staff_skills = pd.DataFrame.from_dict(await staff_skill(staff_id))\n",
    "    role_skills = pd.DataFrame.from_records(pd.DataFrame.from_dict(supabase.from_('role_skill').select('skill(*)').eq('role_id', role_id).execute().data)['skill'])\n",
    "\n",
    "    # Add a 'qualified' field to the staff_skill list\n",
    "    role_skills['qualified'] = role_skills['skill_id'].isin(staff_skills['skill_id'])\n",
    "\n",
    "    # Sort the staff_skill list based on the 'qualified' field\n",
    "    skill = role_skills.sort_values(by=['qualified', 'skill_name'], ascending=[False, True])\n",
    "    match_percentage = skill['qualified'].mean()*100\n",
    "    skill = skill.to_dict('records')\n",
    "\n",
    "    staff_role_skill = {\n",
    "        'match_percentage': match_percentage,\n",
    "        'skill': skill\n",
    "    }\n",
    "\n",
    "    return staff_role_skill\n",
    "\n",
    "role_id=2\n",
    "\n",
    "# Get the list of skill_id for the staff and role\n",
    "application = pd.DataFrame.from_records(supabase.table('application').select('*, staff(*)').eq('role_id', role_id).execute().data)\n",
    "# pd.DataFrame.from_records(application.staff).staff_id.apply(lambda x: staff_skill(x))\n",
    "\n",
    "tes = []\n",
    "for i in application.staff:\n",
    "    tes.append(await staff_role_skill(i['staff_id'], role_id))"
   ]
  },
  {
   "cell_type": "code",
   "execution_count": 56,
   "metadata": {},
   "outputs": [
    {
     "data": {
      "text/plain": [
       "[{'match_percentage': 50.0,\n",
       "  'skill': [{'skill_id': 3,\n",
       "    'skill_name': 'Scrum',\n",
       "    'skill_desc': 'Use scrum methodology',\n",
       "    'qualified': True},\n",
       "   {'skill_id': 12,\n",
       "    'skill_name': 'Express.js',\n",
       "    'skill_desc': 'Node.js web application framework',\n",
       "    'qualified': False}]},\n",
       " {'match_percentage': 0.0,\n",
       "  'skill': [{'skill_id': 12,\n",
       "    'skill_name': 'Express.js',\n",
       "    'skill_desc': 'Node.js web application framework',\n",
       "    'qualified': False},\n",
       "   {'skill_id': 3,\n",
       "    'skill_name': 'Scrum',\n",
       "    'skill_desc': 'Use scrum methodology',\n",
       "    'qualified': False}]},\n",
       " {'match_percentage': 50.0,\n",
       "  'skill': [{'skill_id': 3,\n",
       "    'skill_name': 'Scrum',\n",
       "    'skill_desc': 'Use scrum methodology',\n",
       "    'qualified': True},\n",
       "   {'skill_id': 12,\n",
       "    'skill_name': 'Express.js',\n",
       "    'skill_desc': 'Node.js web application framework',\n",
       "    'qualified': False}]},\n",
       " {'match_percentage': 50.0,\n",
       "  'skill': [{'skill_id': 3,\n",
       "    'skill_name': 'Scrum',\n",
       "    'skill_desc': 'Use scrum methodology',\n",
       "    'qualified': True},\n",
       "   {'skill_id': 12,\n",
       "    'skill_name': 'Express.js',\n",
       "    'skill_desc': 'Node.js web application framework',\n",
       "    'qualified': False}]}]"
      ]
     },
     "execution_count": 56,
     "metadata": {},
     "output_type": "execute_result"
    }
   ],
   "source": [
    "tes"
   ]
  }
 ],
 "metadata": {
  "kernelspec": {
   "display_name": "Python 3",
   "language": "python",
   "name": "python3"
  },
  "language_info": {
   "codemirror_mode": {
    "name": "ipython",
    "version": 3
   },
   "file_extension": ".py",
   "mimetype": "text/x-python",
   "name": "python",
   "nbconvert_exporter": "python",
   "pygments_lexer": "ipython3",
   "version": "3.11.5"
  },
  "orig_nbformat": 4
 },
 "nbformat": 4,
 "nbformat_minor": 2
}
