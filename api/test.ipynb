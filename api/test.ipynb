{
 "cells": [
  {
   "cell_type": "code",
   "execution_count": 21,
   "metadata": {},
   "outputs": [
    {
     "name": "stderr",
     "output_type": "stream",
     "text": [
      "2023-09-20 12:25:46,084:INFO - HTTP Request: GET https://wbsagjngbxrrzfktkvtt.supabase.co/rest/v1/Staff?select=%2A&Staff_ID=eq.1 \"HTTP/1.1 200 OK\"\n",
      "2023-09-20 12:25:46,150:INFO - HTTP Request: GET https://wbsagjngbxrrzfktkvtt.supabase.co/rest/v1/Staff_Skill?select=Skill_ID&Staff_ID=eq.1 \"HTTP/1.1 200 OK\"\n",
      "2023-09-20 12:25:46,224:INFO - HTTP Request: GET https://wbsagjngbxrrzfktkvtt.supabase.co/rest/v1/Skills?select=%2A&Skill_ID=in.%283%2C2%2C5%2C6%2C7%29 \"HTTP/1.1 200 OK\"\n"
     ]
    }
   ],
   "source": [
    "import os\n",
    "from dotenv import load_dotenv\n",
    "from supabase import create_client, Client\n",
    "\n",
    "import pandas as pd\n",
    "\n",
    "load_dotenv()\n",
    "url: str = os.getenv(\"SUPABASE_URL\")\n",
    "key: str = os.getenv(\"SUPABASE_KEY\")\n",
    "supabase: Client = create_client(url, key)\n",
    "\n",
    "staff_id = 2\n",
    "role_id = 1\n",
    "\n",
    "staff = supabase.from_('staff').select(\"*\").eq('staff_id', staff_id).execute().data[0]\n",
    "staff_skill = supabase.from_('staff_skill').select(\"skill_id\").eq('staff_id', staff_id).execute().data\n",
    "skill = supabase.from_('skill').select(\"*\").in_('skill_id', [s['skill_id'] for s in staff_skill]).execute().data\n",
    "role = supabase.from_('role').select(\"*\").eq('role_id', role_id).execute().data[0] "
   ]
  },
  {
   "cell_type": "code",
   "execution_count": 27,
   "metadata": {},
   "outputs": [
    {
     "data": {
      "text/plain": [
       "[{'Skill_ID': 2,\n",
       "  'Skill_Name': 'Product Management',\n",
       "  'Skill_Desc': 'Manage product'},\n",
       " {'Skill_ID': 3, 'Skill_Name': 'Scrum', 'Skill_Desc': 'Use scrum methodology'},\n",
       " {'Skill_ID': 5,\n",
       "  'Skill_Name': 'CSS',\n",
       "  'Skill_Desc': 'Styling language for web pages'},\n",
       " {'Skill_ID': 6,\n",
       "  'Skill_Name': 'Jungle',\n",
       "  'Skill_Desc': 'General-purpose programming language'},\n",
       " {'Skill_ID': 7, 'Skill_Name': 'Django', 'Skill_Desc': 'Python web framework'}]"
      ]
     },
     "execution_count": 27,
     "metadata": {},
     "output_type": "execute_result"
    }
   ],
   "source": [
    "skill"
   ]
  },
  {
   "cell_type": "code",
   "execution_count": null,
   "metadata": {},
   "outputs": [],
   "source": []
  },
  {
   "cell_type": "code",
   "execution_count": null,
   "metadata": {},
   "outputs": [],
   "source": []
  },
  {
   "cell_type": "code",
   "execution_count": null,
   "metadata": {},
   "outputs": [],
   "source": []
  }
 ],
 "metadata": {
  "kernelspec": {
   "display_name": "Python 3",
   "language": "python",
   "name": "python3"
  },
  "language_info": {
   "codemirror_mode": {
    "name": "ipython",
    "version": 3
   },
   "file_extension": ".py",
   "mimetype": "text/x-python",
   "name": "python",
   "nbconvert_exporter": "python",
   "pygments_lexer": "ipython3",
   "version": "3.11.5"
  },
  "orig_nbformat": 4
 },
 "nbformat": 4,
 "nbformat_minor": 2
}
