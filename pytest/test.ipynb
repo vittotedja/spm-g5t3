{
 "cells": [
  {
   "cell_type": "code",
   "execution_count": null,
   "metadata": {},
   "outputs": [],
   "source": [
    "from fastapi.testclient import TestClient\n",
    "import sys\n",
    "import pandas as pd\n",
    "\n",
    "sys.path.append(\"..\")\n",
    "from main import app\n",
    "client = TestClient(app)\n",
    "\n",
    "staff_ids = pd.DataFrame(client.get(f\"/api/staff\").json())['staff_id']\n",
    "role_ids = pd.DataFrame(client.get(f\"/api/role\").json())['role_id']\n",
    "match = 0\n",
    "\n",
    "response = client.put(\n",
    "    \"/api/application\",\n",
    "    json={\n",
    "        \"application_id\": -1,\n",
    "        \"application_status\": \"Shortlisted\"\n",
    "    }\n",
    ")\n",
    "\n",
    "\n",
    "print(response.json())"
   ]
  }
 ],
 "metadata": {
  "kernelspec": {
   "display_name": "Python 3",
   "language": "python",
   "name": "python3"
  },
  "language_info": {
   "codemirror_mode": {
    "name": "ipython",
    "version": 3
   },
   "file_extension": ".py",
   "mimetype": "text/x-python",
   "name": "python",
   "nbconvert_exporter": "python",
   "pygments_lexer": "ipython3",
   "version": "3.11.5"
  }
 },
 "nbformat": 4,
 "nbformat_minor": 2
}
