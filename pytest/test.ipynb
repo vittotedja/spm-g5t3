{
 "cells": [
  {
   "cell_type": "code",
   "execution_count": 4,
   "metadata": {},
   "outputs": [
    {
     "name": "stderr",
     "output_type": "stream",
     "text": [
      "2023-10-27 13:43:14,605:INFO - HTTP Request: GET https://lhtazigkmlwzrsknbidn.supabase.co/rest/v1/staff?select=staff_fname%2C%20staff_lname%2C%20dept%2C%20country%2C%20control_access%2C%20staff_id \"HTTP/1.1 200 OK\"\n",
      "2023-10-27 13:43:14,673:INFO - HTTP Request: GET https://lhtazigkmlwzrsknbidn.supabase.co/rest/v1/application?select=staff_id&listing_id=eq.1 \"HTTP/1.1 200 OK\"\n",
      "2023-10-27 13:43:14,684:INFO - HTTP Request: GET http://testserver/api/staff?name=Yee%20Lim&staff_id=140944&listing_id=1 \"HTTP/1.1 200 OK\"\n"
     ]
    },
    {
     "name": "stdout",
     "output_type": "stream",
     "text": [
      "[{'staff_fname': 'Yee', 'staff_lname': 'Liu', 'dept': 'Engineering', 'country': 'Singapore', 'control_access': 2, 'staff_id': 151518, 'link': '/applicantdetail?staff_id=151518'}, {'staff_fname': 'Liam', 'staff_lname': 'Teo', 'dept': 'Engineering', 'country': 'Singapore', 'control_access': 2, 'staff_id': 150765, 'link': '/applicantdetail?staff_id=150765'}, {'staff_fname': 'Liam', 'staff_lname': 'The', 'dept': 'Sales', 'country': 'Singapore', 'control_access': 2, 'staff_id': 140108, 'link': '/applicantdetail?staff_id=140108'}, {'staff_fname': 'Oliver', 'staff_lname': 'Lim', 'dept': 'Engineering', 'country': 'Singapore', 'control_access': 2, 'staff_id': 151118, 'link': '/applicantdetail?staff_id=151118'}, {'staff_fname': 'Soma', 'staff_lname': 'Lim', 'dept': 'Engineering', 'country': 'Singapore', 'control_access': 2, 'staff_id': 151465, 'link': '/applicantdetail?staff_id=151465'}]\n"
     ]
    }
   ],
   "source": [
    "import os\n",
    "from dotenv import load_dotenv\n",
    "from supabase import create_client, Client\n",
    "from fastapi.testclient import TestClient\n",
    "from postgrest import exceptions as postgrest_exceptions\n",
    "import pytest\n",
    "import sys\n",
    "\n",
    "sys.path.append(\"..\")\n",
    "from main import app\n",
    "client = TestClient(app)\n",
    "\n",
    "response = client.get(\"/api/staff?name=Yee Lim&staff_id=140944&listing_id=1\")\n",
    "print(response.json())"
   ]
  }
 ],
 "metadata": {
  "kernelspec": {
   "display_name": "Python 3",
   "language": "python",
   "name": "python3"
  },
  "language_info": {
   "codemirror_mode": {
    "name": "ipython",
    "version": 3
   },
   "file_extension": ".py",
   "mimetype": "text/x-python",
   "name": "python",
   "nbconvert_exporter": "python",
   "pygments_lexer": "ipython3",
   "version": "3.12.0"
  }
 },
 "nbformat": 4,
 "nbformat_minor": 2
}
