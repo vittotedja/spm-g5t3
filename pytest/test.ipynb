{
 "cells": [
  {
   "cell_type": "code",
   "execution_count": 6,
   "metadata": {},
   "outputs": [
    {
     "name": "stderr",
     "output_type": "stream",
     "text": [
      "2023-10-29 11:05:08,422:INFO - HTTP Request: GET https://lhtazigkmlwzrsknbidn.supabase.co/rest/v1/staff?select=%2A \"HTTP/1.1 200 OK\"\n",
      "2023-10-29 11:05:08,485:INFO - HTTP Request: GET https://lhtazigkmlwzrsknbidn.supabase.co/rest/v1/application?select=staff_id&listing_id=eq.1 \"HTTP/1.1 200 OK\"\n",
      "2023-10-29 11:05:08,533:INFO - HTTP Request: GET https://lhtazigkmlwzrsknbidn.supabase.co/rest/v1/listing?select=%2A%2C%20role%28%2A%29&listing_id=eq.1 \"HTTP/1.1 200 OK\"\n",
      "2023-10-29 11:05:08,585:INFO - HTTP Request: GET https://lhtazigkmlwzrsknbidn.supabase.co/rest/v1/role_skill?select=skill_id&role_id=eq.2 \"HTTP/1.1 200 OK\"\n",
      "2023-10-29 11:05:08,632:INFO - HTTP Request: GET https://lhtazigkmlwzrsknbidn.supabase.co/rest/v1/staff_skill?select=%2A \"HTTP/1.1 200 OK\"\n",
      "2023-10-29 11:05:08,653:INFO - HTTP Request: GET http://testserver/api/staff?is_manager=True&staff_id=140944&listing_id=1 \"HTTP/1.1 200 OK\"\n"
     ]
    },
    {
     "name": "stdout",
     "output_type": "stream",
     "text": [
      "28.57142857142857\n"
     ]
    }
   ],
   "source": [
    "import os\n",
    "from dotenv import load_dotenv\n",
    "from supabase import create_client, Client\n",
    "from fastapi.testclient import TestClient\n",
    "from postgrest import exceptions as postgrest_exceptions\n",
    "import pytest\n",
    "import sys\n",
    "\n",
    "sys.path.append(\"..\")\n",
    "from main import app\n",
    "client = TestClient(app)\n",
    "\n",
    "response = client.get(\"/api/staff?is_manager=True&staff_id=140944&listing_id=1\")\n",
    "print(response.json()['data'][0]['match_percentage'])"
   ]
  }
 ],
 "metadata": {
  "kernelspec": {
   "display_name": "Python 3",
   "language": "python",
   "name": "python3"
  },
  "language_info": {
   "codemirror_mode": {
    "name": "ipython",
    "version": 3
   },
   "file_extension": ".py",
   "mimetype": "text/x-python",
   "name": "python",
   "nbconvert_exporter": "python",
   "pygments_lexer": "ipython3",
   "version": "3.12.0"
  }
 },
 "nbformat": 4,
 "nbformat_minor": 2
}
